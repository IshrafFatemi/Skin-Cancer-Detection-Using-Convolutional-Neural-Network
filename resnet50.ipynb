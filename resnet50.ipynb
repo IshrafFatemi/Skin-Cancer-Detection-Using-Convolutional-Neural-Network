{
  "nbformat": 4,
  "nbformat_minor": 0,
  "metadata": {
    "colab": {
      "name": "resnet50.ipynb",
      "provenance": [],
      "collapsed_sections": []
    },
    "kernelspec": {
      "name": "python3",
      "display_name": "Python 3"
    },
    "language_info": {
      "name": "python"
    },
    "accelerator": "GPU"
  },
  "cells": [
    {
      "cell_type": "code",
      "metadata": {
        "id": "Bs-2Ck2IPkj7",
        "colab": {
          "base_uri": "https://localhost:8080/"
        },
        "outputId": "cf791ca7-5b24-427b-b42d-83d644194ab2"
      },
      "source": [
        "from google.colab import drive\n",
        "drive.mount('/content/drive')"
      ],
      "execution_count": null,
      "outputs": [
        {
          "output_type": "stream",
          "text": [
            "Mounted at /content/drive\n"
          ],
          "name": "stdout"
        }
      ]
    },
    {
      "cell_type": "code",
      "metadata": {
        "id": "_ARlDAIUeJ92"
      },
      "source": [
        "import time\n",
        "import numpy as np\n",
        "import os\n",
        "from PIL import Image\n",
        "from tensorflow.keras.models import Sequential\n",
        "from tensorflow.keras import optimizers\n",
        "from tensorflow.keras.layers import Dense, Conv2D, Dropout, Flatten, MaxPooling2D\n",
        "from tensorflow.keras.applications import ResNet50\n",
        "from keras_preprocessing.image import ImageDataGenerator\n",
        "from tensorflow.keras.callbacks import ReduceLROnPlateau\n",
        "import matplotlib.pyplot as plt\n",
        "from keras.layers import Dense, Dropout, Input\n",
        "from keras.optimizers import Adam\n",
        "from keras.callbacks import ReduceLROnPlateau, ModelCheckpoint\n",
        "from keras.applications import resnet50, vgg16, xception, inception_resnet_v2, mobilenet_v2, densenet\n",
        "from tensorflow.keras.applications import efficientnet\n",
        "from tensorflow.keras.layers.experimental import preprocessing\n",
        "from sklearn.metrics import accuracy_score"
      ],
      "execution_count": null,
      "outputs": []
    },
    {
      "cell_type": "code",
      "metadata": {
        "id": "8M7hK_X9eJ7I"
      },
      "source": [
        "train_dataset = \"/content/drive/MyDrive/MachineLearning_dataset/data/train\"\n",
        "test_dataset = \"/content/drive/MyDrive/MachineLearning_dataset/data/test\""
      ],
      "execution_count": null,
      "outputs": []
    },
    {
      "cell_type": "code",
      "metadata": {
        "id": "a51iPLspeJ4e"
      },
      "source": [
        "height, width = (224, 224) \n",
        "epochs_no = 30\n",
        "classes_name = ('benign','malignant')\n",
        "batch_size = 30\n",
        "imgdatagen = ImageDataGenerator(rescale = 1./255) \n",
        "\n",
        "imgdatagen1 = ImageDataGenerator(rescale = 1./255)"
      ],
      "execution_count": null,
      "outputs": []
    },
    {
      "cell_type": "code",
      "metadata": {
        "colab": {
          "base_uri": "https://localhost:8080/"
        },
        "id": "S-C_GhwkeJ1-",
        "outputId": "721617f2-7598-4a92-c358-00a21ba150d6"
      },
      "source": [
        "train_pre_dataset = imgdatagen .flow_from_directory(train_dataset, target_size = (height, width), \n",
        "                classes = classes_name,  batch_size = batch_size)\n",
        "\n",
        "val_pre_dataset = imgdatagen1 .flow_from_directory(test_dataset, target_size = (height, width), \n",
        "                classes = classes_name, batch_size = batch_size)"
      ],
      "execution_count": null,
      "outputs": [
        {
          "output_type": "stream",
          "text": [
            "Found 2637 images belonging to 2 classes.\n",
            "Found 660 images belonging to 2 classes.\n"
          ],
          "name": "stdout"
        }
      ]
    },
    {
      "cell_type": "code",
      "metadata": {
        "colab": {
          "base_uri": "https://localhost:8080/"
        },
        "id": "bY1DwiO3eJzG",
        "outputId": "df3b09d4-93aa-4117-f9ce-bd678fbfe512"
      },
      "source": [
        "base_model= ResNet50(include_top=False, weights=\"imagenet\", input_shape=(height, width,3))\n",
        "\n",
        "ResNet_model= Sequential()\n",
        "ResNet_model.add(base_model)\n",
        "ResNet_model.add(Conv2D(64, (3, 3), activation = 'relu'))\n",
        "#ResNet_model.add(Dropout(0.3))\n",
        "ResNet_model.add(Conv2D(64, (3, 3), activation = 'relu'))\n",
        "ResNet_model.add(MaxPooling2D(pool_size = (2, 2)))\n",
        "#ResNet_model.add(Dropout(0.3))\n",
        "ResNet_model.add(Flatten())\n",
        "ResNet_model.add(Dense(512,activation='relu'))\n",
        "ResNet_model.add(Dense(256,activation='relu'))\n",
        "#ResNet_model.add(Dropout(0.3))\n",
        "ResNet_model.add(Dense(128,activation='relu'))\n",
        "ResNet_model.add(Dense(64,activation='relu'))\n",
        "ResNet_model.add(Dense(32,activation='relu'))\n",
        "ResNet_model.add(Dense(16,activation='relu'))\n",
        "ResNet_model.add(Dense(8,activation='relu'))\n",
        "ResNet_model.add(Dense(2, activation='softmax'))\n",
        "ResNet_model.summary()"
      ],
      "execution_count": null,
      "outputs": [
        {
          "output_type": "stream",
          "text": [
            "Model: \"sequential_1\"\n",
            "_________________________________________________________________\n",
            "Layer (type)                 Output Shape              Param #   \n",
            "=================================================================\n",
            "resnet50 (Functional)        (None, 7, 7, 2048)        23587712  \n",
            "_________________________________________________________________\n",
            "conv2d_2 (Conv2D)            (None, 5, 5, 64)          1179712   \n",
            "_________________________________________________________________\n",
            "conv2d_3 (Conv2D)            (None, 3, 3, 64)          36928     \n",
            "_________________________________________________________________\n",
            "max_pooling2d_1 (MaxPooling2 (None, 1, 1, 64)          0         \n",
            "_________________________________________________________________\n",
            "flatten_1 (Flatten)          (None, 64)                0         \n",
            "_________________________________________________________________\n",
            "module_wrapper_8 (ModuleWrap (None, 512)               33280     \n",
            "_________________________________________________________________\n",
            "module_wrapper_9 (ModuleWrap (None, 256)               131328    \n",
            "_________________________________________________________________\n",
            "module_wrapper_10 (ModuleWra (None, 128)               32896     \n",
            "_________________________________________________________________\n",
            "module_wrapper_11 (ModuleWra (None, 64)                8256      \n",
            "_________________________________________________________________\n",
            "module_wrapper_12 (ModuleWra (None, 32)                2080      \n",
            "_________________________________________________________________\n",
            "module_wrapper_13 (ModuleWra (None, 16)                528       \n",
            "_________________________________________________________________\n",
            "module_wrapper_14 (ModuleWra (None, 8)                 136       \n",
            "_________________________________________________________________\n",
            "module_wrapper_15 (ModuleWra (None, 2)                 18        \n",
            "=================================================================\n",
            "Total params: 25,012,874\n",
            "Trainable params: 24,959,754\n",
            "Non-trainable params: 53,120\n",
            "_________________________________________________________________\n"
          ],
          "name": "stdout"
        }
      ]
    },
    {
      "cell_type": "code",
      "metadata": {
        "colab": {
          "base_uri": "https://localhost:8080/"
        },
        "id": "ljdl8unMeJwO",
        "outputId": "5e43ae90-c8fd-4c98-d876-37546434b2a1"
      },
      "source": [
        "ResNet_model.compile(optimizer=optimizers.Adam(lr=0.001),loss=\"categorical_crossentropy\",metrics=[\"accuracy\"])"
      ],
      "execution_count": null,
      "outputs": [
        {
          "output_type": "stream",
          "text": [
            "/usr/local/lib/python3.7/dist-packages/tensorflow/python/keras/optimizer_v2/optimizer_v2.py:375: UserWarning: The `lr` argument is deprecated, use `learning_rate` instead.\n",
            "  \"The `lr` argument is deprecated, use `learning_rate` instead.\")\n"
          ],
          "name": "stderr"
        }
      ]
    },
    {
      "cell_type": "code",
      "metadata": {
        "id": "AnZwwVHjCyT_"
      },
      "source": [
        "learning_rate_reduction = ReduceLROnPlateau(monitor='val_loss', \n",
        "                                            patience=2, \n",
        "                                            verbose=1, \n",
        "                                            factor=0.5, \n",
        "                                            min_lr=1e-7)"
      ],
      "execution_count": null,
      "outputs": []
    },
    {
      "cell_type": "code",
      "metadata": {
        "colab": {
          "base_uri": "https://localhost:8080/"
        },
        "id": "R4jFHkNseJte",
        "outputId": "8bdd8046-3182-4fbd-ca94-f7320a68b6f9"
      },
      "source": [
        "ResNet_history = ResNet_model.fit_generator(generator=train_pre_dataset,\n",
        "                            steps_per_epoch=train_pre_dataset.samples//train_pre_dataset.batch_size,\n",
        "                            validation_data=val_pre_dataset,\n",
        "                            verbose=1,\n",
        "                            validation_steps=val_pre_dataset.samples//val_pre_dataset.batch_size,\n",
        "                            epochs=epochs_no,\n",
        "                            callbacks=[ModelCheckpoint(\"resnet50.h5\", monitor='val_accuracy',save_weights_only=True, mode='max', save_best_only=True, verbose=2)]) #callbacks=[learn_control])"
      ],
      "execution_count": null,
      "outputs": [
        {
          "output_type": "stream",
          "text": [
            "/usr/local/lib/python3.7/dist-packages/tensorflow/python/keras/engine/training.py:1940: UserWarning: `Model.fit_generator` is deprecated and will be removed in a future version. Please use `Model.fit`, which supports generators.\n",
            "  warnings.warn('`Model.fit_generator` is deprecated and '\n"
          ],
          "name": "stderr"
        },
        {
          "output_type": "stream",
          "text": [
            "Epoch 1/30\n",
            "87/87 [==============================] - 37s 369ms/step - loss: 0.5211 - accuracy: 0.7430 - val_loss: 132.0574 - val_accuracy: 0.5455\n",
            "\n",
            "Epoch 00001: val_accuracy improved from -inf to 0.54545, saving model to resnet50.h5\n",
            "Epoch 2/30\n",
            "87/87 [==============================] - 32s 364ms/step - loss: 0.4696 - accuracy: 0.7733 - val_loss: 0.6957 - val_accuracy: 0.4545\n",
            "\n",
            "Epoch 00002: val_accuracy did not improve from 0.54545\n",
            "Epoch 3/30\n",
            "87/87 [==============================] - 31s 355ms/step - loss: 0.4329 - accuracy: 0.7936 - val_loss: 0.6853 - val_accuracy: 0.5455\n",
            "\n",
            "Epoch 00003: val_accuracy did not improve from 0.54545\n",
            "Epoch 4/30\n",
            "87/87 [==============================] - 31s 361ms/step - loss: 0.4218 - accuracy: 0.8051 - val_loss: 0.6887 - val_accuracy: 0.5455\n",
            "\n",
            "Epoch 00004: val_accuracy did not improve from 0.54545\n",
            "Epoch 5/30\n",
            "87/87 [==============================] - 31s 358ms/step - loss: 0.4209 - accuracy: 0.8163 - val_loss: 0.6893 - val_accuracy: 0.5455\n",
            "\n",
            "Epoch 00005: val_accuracy did not improve from 0.54545\n",
            "Epoch 6/30\n",
            "87/87 [==============================] - 31s 359ms/step - loss: 0.3912 - accuracy: 0.8274 - val_loss: 1.1188 - val_accuracy: 0.5455\n",
            "\n",
            "Epoch 00006: val_accuracy did not improve from 0.54545\n",
            "Epoch 7/30\n",
            "87/87 [==============================] - 31s 358ms/step - loss: 0.3751 - accuracy: 0.8216 - val_loss: 0.6969 - val_accuracy: 0.5455\n",
            "\n",
            "Epoch 00007: val_accuracy did not improve from 0.54545\n",
            "Epoch 8/30\n",
            "87/87 [==============================] - 31s 359ms/step - loss: 0.3400 - accuracy: 0.8416 - val_loss: 0.6940 - val_accuracy: 0.5500\n",
            "\n",
            "Epoch 00008: val_accuracy improved from 0.54545 to 0.55000, saving model to resnet50.h5\n",
            "Epoch 9/30\n",
            "87/87 [==============================] - 31s 357ms/step - loss: 0.3311 - accuracy: 0.8439 - val_loss: 0.6825 - val_accuracy: 0.5470\n",
            "\n",
            "Epoch 00009: val_accuracy did not improve from 0.55000\n",
            "Epoch 10/30\n",
            "87/87 [==============================] - 31s 359ms/step - loss: 0.3166 - accuracy: 0.8581 - val_loss: 0.6983 - val_accuracy: 0.5470\n",
            "\n",
            "Epoch 00010: val_accuracy did not improve from 0.55000\n",
            "Epoch 11/30\n",
            "87/87 [==============================] - 31s 357ms/step - loss: 0.3267 - accuracy: 0.8546 - val_loss: 0.5981 - val_accuracy: 0.6030\n",
            "\n",
            "Epoch 00011: val_accuracy improved from 0.55000 to 0.60303, saving model to resnet50.h5\n",
            "Epoch 12/30\n",
            "87/87 [==============================] - 31s 358ms/step - loss: 0.2941 - accuracy: 0.8650 - val_loss: 0.4600 - val_accuracy: 0.7545\n",
            "\n",
            "Epoch 00012: val_accuracy improved from 0.60303 to 0.75455, saving model to resnet50.h5\n",
            "Epoch 13/30\n",
            "87/87 [==============================] - 31s 359ms/step - loss: 0.2990 - accuracy: 0.8650 - val_loss: 0.5129 - val_accuracy: 0.7364\n",
            "\n",
            "Epoch 00013: val_accuracy did not improve from 0.75455\n",
            "Epoch 14/30\n",
            "87/87 [==============================] - 31s 356ms/step - loss: 0.3096 - accuracy: 0.8623 - val_loss: 0.5294 - val_accuracy: 0.8076\n",
            "\n",
            "Epoch 00014: val_accuracy improved from 0.75455 to 0.80758, saving model to resnet50.h5\n",
            "Epoch 15/30\n",
            "87/87 [==============================] - 31s 356ms/step - loss: 0.2836 - accuracy: 0.8669 - val_loss: 0.5947 - val_accuracy: 0.7788\n",
            "\n",
            "Epoch 00015: val_accuracy did not improve from 0.80758\n",
            "Epoch 16/30\n",
            "87/87 [==============================] - 31s 358ms/step - loss: 0.2639 - accuracy: 0.8815 - val_loss: 0.3843 - val_accuracy: 0.8152\n",
            "\n",
            "Epoch 00016: val_accuracy improved from 0.80758 to 0.81515, saving model to resnet50.h5\n",
            "Epoch 17/30\n",
            "87/87 [==============================] - 31s 358ms/step - loss: 0.2458 - accuracy: 0.8899 - val_loss: 0.5730 - val_accuracy: 0.7500\n",
            "\n",
            "Epoch 00017: val_accuracy did not improve from 0.81515\n",
            "Epoch 18/30\n",
            "87/87 [==============================] - 31s 359ms/step - loss: 0.2359 - accuracy: 0.8980 - val_loss: 0.4305 - val_accuracy: 0.8439\n",
            "\n",
            "Epoch 00018: val_accuracy improved from 0.81515 to 0.84394, saving model to resnet50.h5\n",
            "Epoch 19/30\n",
            "87/87 [==============================] - 31s 356ms/step - loss: 0.2253 - accuracy: 0.9030 - val_loss: 0.4125 - val_accuracy: 0.8167\n",
            "\n",
            "Epoch 00019: val_accuracy did not improve from 0.84394\n",
            "Epoch 20/30\n",
            "87/87 [==============================] - 31s 359ms/step - loss: 0.2053 - accuracy: 0.9191 - val_loss: 5.5652 - val_accuracy: 0.7500\n",
            "\n",
            "Epoch 00020: val_accuracy did not improve from 0.84394\n",
            "Epoch 21/30\n",
            "87/87 [==============================] - 31s 357ms/step - loss: 0.2137 - accuracy: 0.9137 - val_loss: 0.5262 - val_accuracy: 0.7909\n",
            "\n",
            "Epoch 00021: val_accuracy did not improve from 0.84394\n",
            "Epoch 22/30\n",
            "87/87 [==============================] - 31s 357ms/step - loss: 0.1972 - accuracy: 0.9183 - val_loss: 0.4724 - val_accuracy: 0.8091\n",
            "\n",
            "Epoch 00022: val_accuracy did not improve from 0.84394\n",
            "Epoch 23/30\n",
            "87/87 [==============================] - 31s 358ms/step - loss: 0.1764 - accuracy: 0.9225 - val_loss: 0.6217 - val_accuracy: 0.8000\n",
            "\n",
            "Epoch 00023: val_accuracy did not improve from 0.84394\n",
            "Epoch 24/30\n",
            "87/87 [==============================] - 31s 359ms/step - loss: 0.1781 - accuracy: 0.9375 - val_loss: 0.5714 - val_accuracy: 0.7682\n",
            "\n",
            "Epoch 00024: val_accuracy did not improve from 0.84394\n",
            "Epoch 25/30\n",
            "87/87 [==============================] - 31s 357ms/step - loss: 0.1885 - accuracy: 0.9356 - val_loss: 2.5666 - val_accuracy: 0.6152\n",
            "\n",
            "Epoch 00025: val_accuracy did not improve from 0.84394\n",
            "Epoch 26/30\n",
            "87/87 [==============================] - 31s 360ms/step - loss: 0.1267 - accuracy: 0.9559 - val_loss: 0.9715 - val_accuracy: 0.7879\n",
            "\n",
            "Epoch 00026: val_accuracy did not improve from 0.84394\n",
            "Epoch 27/30\n",
            "87/87 [==============================] - 31s 359ms/step - loss: 0.1193 - accuracy: 0.9555 - val_loss: 0.7118 - val_accuracy: 0.7955\n",
            "\n",
            "Epoch 00027: val_accuracy did not improve from 0.84394\n",
            "Epoch 28/30\n",
            "87/87 [==============================] - 31s 359ms/step - loss: 0.1306 - accuracy: 0.9501 - val_loss: 0.6568 - val_accuracy: 0.7909\n",
            "\n",
            "Epoch 00028: val_accuracy did not improve from 0.84394\n",
            "Epoch 29/30\n",
            "87/87 [==============================] - 31s 358ms/step - loss: 0.1063 - accuracy: 0.9620 - val_loss: 1.0986 - val_accuracy: 0.7727\n",
            "\n",
            "Epoch 00029: val_accuracy did not improve from 0.84394\n",
            "Epoch 30/30\n",
            "87/87 [==============================] - 31s 360ms/step - loss: 0.0746 - accuracy: 0.9689 - val_loss: 0.9817 - val_accuracy: 0.7697\n",
            "\n",
            "Epoch 00030: val_accuracy did not improve from 0.84394\n"
          ],
          "name": "stdout"
        }
      ]
    },
    {
      "cell_type": "code",
      "metadata": {
        "colab": {
          "base_uri": "https://localhost:8080/",
          "height": 573
        },
        "id": "42kXaIMxtH0P",
        "outputId": "6bc92a64-e61d-47a1-cc60-0dcab081249c"
      },
      "source": [
        "plt.plot(ResNet_history.history['accuracy'])\n",
        "plt.plot(ResNet_history.history['val_accuracy'])\n",
        "plt.title('model accuracy')\n",
        "plt.ylabel('accuracy')\n",
        "plt.xlabel('epoch')\n",
        "plt.legend(['train', 'test'], loc='upper left')\n",
        "plt.show()\n",
        "# summarize history for loss\n",
        "plt.plot(ResNet_history.history['loss'])\n",
        "plt.plot(ResNet_history.history['val_loss'])\n",
        "plt.title('model loss')\n",
        "plt.ylabel('loss')\n",
        "plt.xlabel('epoch')\n",
        "plt.legend(['train', 'test'], loc='upper left')\n",
        "plt.show()"
      ],
      "execution_count": null,
      "outputs": [
        {
          "output_type": "display_data",
          "data": {
            "image/png": "[encoded data removed]",
            "text/plain": [
              "<Figure size 432x288 with 1 Axes>"
            ]
          },
          "metadata": {
            "tags": [],
            "needs_background": "light"
          }
        },
        {
          "output_type": "display_data",
          "data": {
            "image/png": "[encoded data removed]",
            "text/plain": [
              "<Figure size 432x288 with 1 Axes>"
            ]
          },
          "metadata": {
            "tags": [],
            "needs_background": "light"
          }
        }
      ]
    },
    {
      "cell_type": "code",
      "metadata": {
        "id": "WQ2XbZgWeJk2"
      },
      "source": [
        ""
      ],
      "execution_count": null,
      "outputs": []
    },
    {
      "cell_type": "code",
      "metadata": {
        "id": "Y2Q0aYKFeJgW"
      },
      "source": [
        ""
      ],
      "execution_count": null,
      "outputs": []
    }
  ]
}